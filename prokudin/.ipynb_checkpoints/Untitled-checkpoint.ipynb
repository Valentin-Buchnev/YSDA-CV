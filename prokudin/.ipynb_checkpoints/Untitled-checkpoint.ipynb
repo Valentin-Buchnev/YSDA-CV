{
 "cells": [
  {
   "cell_type": "code",
   "execution_count": 38,
   "metadata": {},
   "outputs": [],
   "source": [
    "import numpy as np\n",
    "\n",
    "def get_img_by_shift(A, dx, dy):\n",
    "    return A[max(0, -dx):A.shape[0] - max(0, dx), max(0, -dy):A.shape[1] - max(0, dy)]\n",
    "\n",
    "def get_shift(A, B):\n",
    "    min_mse = ((A - B) ** 2).mean()\n",
    "    shift = (0, 0)\n",
    "    for dx in range(-1, 1):\n",
    "        for dy in range(-1, 1):\n",
    "            \n",
    "            A_cur = get_img_by_shift(A, dx, dy)\n",
    "            B_cur = get_img_by_shift(B, -dx, -dy)\n",
    "            \n",
    "            assert A_cur.shape == B_cur.shape\n",
    "            \n",
    "            cur_mse = ((A_cur - B_cur) ** 2).mean()\n",
    "            \n",
    "            if dx == 1 and dy == 1:\n",
    "                print(A)\n",
    "                print(B)\n",
    "                print(cur_mse)\n",
    "                    \n",
    "            if cur_mse < min_mse:\n",
    "                min_mse = cur_mse\n",
    "                shift = (dx, dy)\n",
    "                \n",
    "    return shift\n",
    "\n",
    "def align(img, gg):\n",
    "    \n",
    "    g_row, g_col = gg[0], gg[1]\n",
    "    \n",
    "    h = img.shape[0] // 3\n",
    "    \n",
    "    R = G = B = 0\n",
    "    \n",
    "    if img.shape[0] % 3 != 0:\n",
    "        B, G, R, T = np.split(img, [h, 2 * h, 3 * h])\n",
    "    else:\n",
    "        B, G, R = np.split(img, 3)\n",
    "        \n",
    "    #w_del = R.shape[1] // 50\n",
    "    #h_del = R.shape[0] // 50\n",
    "    \n",
    "#     R = R[w_del:R.shape[0] - w_del, h_del:R.shape[1] - h_del]\n",
    "#     G = G[w_del:G.shape[0] - w_del, h_del:G.shape[1] - h_del]\n",
    "#     B = B[w_del:B.shape[0] - w_del, h_del:B.shape[1] - h_del]\n",
    "    \n",
    "    assert R.shape == G.shape\n",
    "    assert B.shape == G.shape\n",
    "    \n",
    "    shift_R = get_shift(G, R)\n",
    "    shift_B = get_shift(G, B)\n",
    "        \n",
    "    h_res, w_res = get_img_by_shift(G, shift_R[0], shift_R[1]).shape\n",
    "    \n",
    "    colored_img = np.zeros((h_res, w_res, 3))\n",
    "    r_row = g_row + h + shift_R[0]\n",
    "    r_col = g_col + shift_R[1]\n",
    "    b_row = g_row - h + shift_B[0]\n",
    "    b_col = g_col + shift_B[1]\n",
    "    \n",
    "    return colored_img, (b_row, b_col), (r_row, r_col)"
   ]
  },
  {
   "cell_type": "code",
   "execution_count": 39,
   "metadata": {
    "scrolled": false
   },
   "outputs": [
    {
     "data": {
      "text/plain": [
       "(array([[[0., 0., 0.],\n",
       "         [0., 0., 0.],\n",
       "         [0., 0., 0.]],\n",
       " \n",
       "        [[0., 0., 0.],\n",
       "         [0., 0., 0.],\n",
       "         [0., 0., 0.]]]), (0, 0), (5, 0))"
      ]
     },
     "execution_count": 39,
     "metadata": {},
     "output_type": "execute_result"
    }
   ],
   "source": [
    "img = np.zeros((9, 3))\n",
    "\n",
    "img[1, 1] = 1\n",
    "img[3, 0] = 1\n",
    "img[6, 0] = 1\n",
    "\n",
    "align(img, (3, 0))"
   ]
  },
  {
   "cell_type": "code",
   "execution_count": 9,
   "metadata": {},
   "outputs": [
    {
     "data": {
      "text/plain": [
       "[array([[0., 0.],\n",
       "        [0., 0.],\n",
       "        [0., 0.]]), array([[0., 0.]])]"
      ]
     },
     "execution_count": 9,
     "metadata": {},
     "output_type": "execute_result"
    }
   ],
   "source": [
    "img = np.zeros((4, 2))\n",
    "\n",
    "(np.split(img, [3]))"
   ]
  },
  {
   "cell_type": "code",
   "execution_count": null,
   "metadata": {},
   "outputs": [],
   "source": []
  }
 ],
 "metadata": {
  "kernelspec": {
   "display_name": "Python 3",
   "language": "python",
   "name": "python3"
  },
  "language_info": {
   "codemirror_mode": {
    "name": "ipython",
    "version": 3
   },
   "file_extension": ".py",
   "mimetype": "text/x-python",
   "name": "python",
   "nbconvert_exporter": "python",
   "pygments_lexer": "ipython3",
   "version": "3.7.3"
  }
 },
 "nbformat": 4,
 "nbformat_minor": 2
}
