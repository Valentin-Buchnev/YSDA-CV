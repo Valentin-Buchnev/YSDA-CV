{
 "cells": [
  {
   "cell_type": "code",
   "execution_count": 2,
   "metadata": {},
   "outputs": [],
   "source": [
    "import numpy as np"
   ]
  },
  {
   "cell_type": "code",
   "execution_count": 35,
   "metadata": {},
   "outputs": [],
   "source": [
    "from skimage.transform import ProjectiveTransform"
   ]
  },
  {
   "cell_type": "code",
   "execution_count": 45,
   "metadata": {},
   "outputs": [
    {
     "data": {
      "text/plain": [
       "<skimage.transform._geometric.ProjectiveTransform at 0x1c15947208>"
      ]
     },
     "execution_count": 45,
     "metadata": {},
     "output_type": "execute_result"
    }
   ],
   "source": [
    "ProjectiveTransform(np.linalg.inv(ProjectiveTransform().params))"
   ]
  },
  {
   "cell_type": "code",
   "execution_count": 43,
   "metadata": {},
   "outputs": [
    {
     "data": {
      "text/plain": [
       "array([[1., 0., 0.],\n",
       "       [0., 1., 0.],\n",
       "       [0., 0., 1.]])"
      ]
     },
     "execution_count": 43,
     "metadata": {},
     "output_type": "execute_result"
    }
   ],
   "source": [
    "ProjectiveTransform().params"
   ]
  },
  {
   "cell_type": "code",
   "execution_count": 33,
   "metadata": {},
   "outputs": [
    {
     "name": "stdout",
     "output_type": "stream",
     "text": [
      "(8, 8)\n",
      "(8,)\n",
      "(9, 9)\n"
     ]
    }
   ],
   "source": [
    "print(U.shape)\n",
    "print(S.shape)\n",
    "print(V.shape)"
   ]
  },
  {
   "cell_type": "code",
   "execution_count": 26,
   "metadata": {},
   "outputs": [
    {
     "data": {
      "text/plain": [
       "array([[-0.05365186,  0.29872814, -0.15371836,  0.42186184, -0.46739871,\n",
       "        -0.27630559, -0.04027389, -0.16175327, -0.61943021],\n",
       "       [-0.0479212 , -0.59061694,  0.38576805, -0.24766208,  0.11521196,\n",
       "        -0.08331048,  0.06097755,  0.12572037, -0.63165132],\n",
       "       [ 0.19162116, -0.14735372, -0.32868393, -0.31452111, -0.62389719,\n",
       "         0.12440528,  0.18149963,  0.54336017,  0.041289  ],\n",
       "       [ 0.27635929,  0.13051854,  0.36268748, -0.05357721, -0.11692664,\n",
       "        -0.30729823, -0.74836234,  0.30425946,  0.10702182],\n",
       "       [-0.25596988, -0.22167179, -0.61528673,  0.09166699,  0.37517942,\n",
       "        -0.48031369, -0.17422839,  0.31060612, -0.00824045],\n",
       "       [ 0.20224829, -0.17528428, -0.08911791,  0.59151536,  0.17122284,\n",
       "         0.6144867 , -0.21595447,  0.30884388, -0.14699178],\n",
       "       [-0.39370927,  0.24019982, -0.24471967, -0.47836799,  0.03037   ,\n",
       "         0.44352454, -0.46016351, -0.11290674, -0.27647541],\n",
       "       [ 0.65720243, -0.28385981, -0.37424497, -0.16074857,  0.02217273,\n",
       "        -0.02239074, -0.19492427, -0.52741132, -0.0667684 ],\n",
       "       [-0.43403332, -0.55231296,  0.03887879,  0.21431921, -0.44028886,\n",
       "         0.03598885, -0.27374011, -0.29571073,  0.31873691]])"
      ]
     },
     "execution_count": 26,
     "metadata": {},
     "output_type": "execute_result"
    }
   ],
   "source": [
    "U"
   ]
  },
  {
   "cell_type": "code",
   "execution_count": 29,
   "metadata": {},
   "outputs": [
    {
     "data": {
      "text/plain": [
       "(9, 8)"
      ]
     },
     "execution_count": 29,
     "metadata": {},
     "output_type": "execute_result"
    }
   ],
   "source": [
    "A.shape"
   ]
  },
  {
   "cell_type": "code",
   "execution_count": 34,
   "metadata": {},
   "outputs": [
    {
     "data": {
      "text/plain": [
       "array([-2.73478938e-16, -1.42813544e-16, -5.86503905e-16,  4.11816814e-16,\n",
       "       -1.41166865e-16,  1.02868665e-16, -1.10981150e-16, -1.42813544e-16])"
      ]
     },
     "execution_count": 34,
     "metadata": {},
     "output_type": "execute_result"
    }
   ],
   "source": [
    "A @ V[-1]"
   ]
  },
  {
   "cell_type": "code",
   "execution_count": 46,
   "metadata": {},
   "outputs": [],
   "source": [
    "A = np.zeros((2, 2))\n",
    "B = np.zeros((2, 2))"
   ]
  },
  {
   "cell_type": "code",
   "execution_count": 47,
   "metadata": {},
   "outputs": [
    {
     "data": {
      "text/plain": [
       "array([[0., 0.],\n",
       "       [0., 0.],\n",
       "       [0., 0.],\n",
       "       [0., 0.]])"
      ]
     },
     "execution_count": 47,
     "metadata": {},
     "output_type": "execute_result"
    }
   ],
   "source": [
    "np.concatenate([A, B])"
   ]
  },
  {
   "cell_type": "code",
   "execution_count": 48,
   "metadata": {},
   "outputs": [],
   "source": [
    "A = np.asarray([[1, 0], [1, 0]])"
   ]
  },
  {
   "cell_type": "code",
   "execution_count": 50,
   "metadata": {},
   "outputs": [
    {
     "data": {
      "text/plain": [
       "array([1, 0])"
      ]
     },
     "execution_count": 50,
     "metadata": {},
     "output_type": "execute_result"
    }
   ],
   "source": [
    "A.max(axis=0)"
   ]
  },
  {
   "cell_type": "code",
   "execution_count": null,
   "metadata": {},
   "outputs": [],
   "source": []
  }
 ],
 "metadata": {
  "kernelspec": {
   "display_name": "Python 3",
   "language": "python",
   "name": "python3"
  },
  "language_info": {
   "codemirror_mode": {
    "name": "ipython",
    "version": 3
   },
   "file_extension": ".py",
   "mimetype": "text/x-python",
   "name": "python",
   "nbconvert_exporter": "python",
   "pygments_lexer": "ipython3",
   "version": "3.7.3"
  }
 },
 "nbformat": 4,
 "nbformat_minor": 2
}
