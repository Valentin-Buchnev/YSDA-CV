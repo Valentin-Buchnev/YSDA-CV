{
 "cells": [
  {
   "cell_type": "code",
   "execution_count": 2,
   "metadata": {},
   "outputs": [],
   "source": [
    "import numpy as np"
   ]
  },
  {
   "cell_type": "code",
   "execution_count": 3,
   "metadata": {},
   "outputs": [],
   "source": [
    "A = np.asarray([[1.07564155,  0.,         0.35854718,  0.,         -1.43418874,  0.,\n",
    "  -0.,          0.        ],\n",
    " [-1.70309913,  0.,          0.98600476,  0.,          1.34455194,  0.,\n",
    "  -0.62745757,  0.        ],\n",
    " [-1.,          0.,         -1.,          0.,         -1.,          0.,\n",
    "  -1.,          0.        ],\n",
    " [ 0.,          1.07564155,  0.,         0.35854718,  0.,         -1.43418874,\n",
    "   0.,         -0.        ],\n",
    " [ 0.,         -1.70309913,  0.,          0.98600476,  0.,          1.34455194,\n",
    "   0.,         -0.62745757],\n",
    " [ 0.,         -1.,          0.,         -1.,          0.,         -1.,\n",
    "   0.,         -1.        ],\n",
    " [ 0.78828005,  0.59121004, -0.65690004,  0.13138001,  0.26276002,  2.10208014,\n",
    "  -0.,         -0.        ],\n",
    " [-1.24811008, -0.93608256, -1.80647512,  0.36129502, -0.24633752, -1.97070013,\n",
    "  -0.80470255, -0.34487252],\n",
    " [-0.73284641, -0.54963481,  1.83211603, -0.36642321,  0.1832116,   1.46569282,\n",
    "  -1.28248122, -0.54963481]])"
   ]
  },
  {
   "cell_type": "code",
   "execution_count": 5,
   "metadata": {},
   "outputs": [
    {
     "data": {
      "text/plain": [
       "(9, 8)"
      ]
     },
     "execution_count": 5,
     "metadata": {},
     "output_type": "execute_result"
    }
   ],
   "source": [
    "A.shape"
   ]
  },
  {
   "cell_type": "code",
   "execution_count": 19,
   "metadata": {},
   "outputs": [],
   "source": [
    "U, S, V = np.linalg.svd(A, full_matrices=True)"
   ]
  },
  {
   "cell_type": "code",
   "execution_count": null,
   "metadata": {},
   "outputs": [],
   "source": []
  },
  {
   "cell_type": "code",
   "execution_count": 20,
   "metadata": {},
   "outputs": [
    {
     "ename": "ValueError",
     "evalue": "matmul: Input operand 1 has a mismatch in its core dimension 0, with gufunc signature (n?,k),(k,m?)->(n?,m?) (size 8 is different from 9)",
     "output_type": "error",
     "traceback": [
      "\u001b[0;31m---------------------------------------------------------------------------\u001b[0m",
      "\u001b[0;31mValueError\u001b[0m                                Traceback (most recent call last)",
      "\u001b[0;32m<ipython-input-20-80b9bcb711c0>\u001b[0m in \u001b[0;36m<module>\u001b[0;34m\u001b[0m\n\u001b[0;32m----> 1\u001b[0;31m \u001b[0;34m(\u001b[0m\u001b[0mU\u001b[0m \u001b[0;34m@\u001b[0m \u001b[0mnp\u001b[0m\u001b[0;34m.\u001b[0m\u001b[0mdiag\u001b[0m\u001b[0;34m(\u001b[0m\u001b[0mS\u001b[0m\u001b[0;34m)\u001b[0m \u001b[0;34m@\u001b[0m \u001b[0mV\u001b[0m \u001b[0;34m-\u001b[0m \u001b[0mA\u001b[0m\u001b[0;34m)\u001b[0m\u001b[0;34m.\u001b[0m\u001b[0mmax\u001b[0m\u001b[0;34m(\u001b[0m\u001b[0;34m)\u001b[0m\u001b[0;34m\u001b[0m\u001b[0;34m\u001b[0m\u001b[0m\n\u001b[0m",
      "\u001b[0;31mValueError\u001b[0m: matmul: Input operand 1 has a mismatch in its core dimension 0, with gufunc signature (n?,k),(k,m?)->(n?,m?) (size 8 is different from 9)"
     ]
    }
   ],
   "source": [
    "(U @ np.diag(S) @ V - A).max()"
   ]
  },
  {
   "cell_type": "code",
   "execution_count": 10,
   "metadata": {},
   "outputs": [
    {
     "data": {
      "text/plain": [
       "array([-0.05032161,  0.03911174,  0.16903992,  0.09465544,  0.09662989,\n",
       "        0.09608165, -0.0351254 , -0.16407821, -0.09199592])"
      ]
     },
     "execution_count": 10,
     "metadata": {},
     "output_type": "execute_result"
    }
   ],
   "source": [
    "A @ V[-1]"
   ]
  },
  {
   "cell_type": "code",
   "execution_count": 18,
   "metadata": {},
   "outputs": [
    {
     "data": {
      "text/plain": [
       "array([-0.05032161,  0.03911174,  0.16903992,  0.09465544,  0.09662989,\n",
       "        0.09608165, -0.0351254 , -0.16407821, -0.09199592])"
      ]
     },
     "execution_count": 18,
     "metadata": {},
     "output_type": "execute_result"
    }
   ],
   "source": [
    "A @ V[7]"
   ]
  },
  {
   "cell_type": "code",
   "execution_count": null,
   "metadata": {},
   "outputs": [],
   "source": []
  }
 ],
 "metadata": {
  "kernelspec": {
   "display_name": "Python 3",
   "language": "python",
   "name": "python3"
  },
  "language_info": {
   "codemirror_mode": {
    "name": "ipython",
    "version": 3
   },
   "file_extension": ".py",
   "mimetype": "text/x-python",
   "name": "python",
   "nbconvert_exporter": "python",
   "pygments_lexer": "ipython3",
   "version": "3.7.3"
  }
 },
 "nbformat": 4,
 "nbformat_minor": 2
}
