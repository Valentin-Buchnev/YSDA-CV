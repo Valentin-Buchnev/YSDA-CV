{
 "cells": [
  {
   "cell_type": "code",
   "execution_count": 1,
   "metadata": {},
   "outputs": [],
   "source": [
    "import numpy as np\n",
    "\n",
    "def get_grad(Y):\n",
    "    I = np.zeros(Y.shape)\n",
    "    \n",
    "    for i in range(I.shape[0]):\n",
    "        if i == 0:\n",
    "            I[i] = Y[i + 1] - Y[i]\n",
    "        elif i == I.shape[0] - 1:\n",
    "            I[i] = Y[i] - Y[i - 1]\n",
    "        else:\n",
    "            I[i] = Y[i + 1] - Y[i - 1]\n",
    "    \n",
    "    return I\n",
    "\n",
    "def get_mask(I, direction):\n",
    "    \n",
    "    for i in range(I.shape[0]):\n",
    "        for j in range(I.shape[1]):\n",
    "            if i > 0:\n",
    "                add = I[i - 1][j]\n",
    "                if j > 0:\n",
    "                    add = min(add, I[i - 1][j - 1])\n",
    "                if j < I.shape[1] - 1:\n",
    "                    add = min(add, I[i - 1][j + 1])\n",
    "                I[i][j] += add\n",
    "    \n",
    "    mask = np.zeros(I.shape)\n",
    "    \n",
    "    cur_id = 0\n",
    "    \n",
    "    for  j in range(0, I.shape[1]):\n",
    "        if I[-1, j] < I[-1, cur_id]:\n",
    "            cur_id = j\n",
    "    \n",
    "    for i in range(I.shape[0] - 1, 0, -1):\n",
    "        mask[i][cur_id] = 1\n",
    "        new_cur_id = max(cur_id - 1, 0)\n",
    "        for j in range(max(cur_id - 1, 0), min(I.shape[1] - 1, cur_id + 1)):\n",
    "                if I[i - 1][j] < I[i - 1][new_cur_id]:\n",
    "                    new_cur_id = j\n",
    "        cur_id = new_cur_id\n",
    "    \n",
    "    return mask\n",
    "\n",
    "def delete_mask(img, mask):\n",
    "    \n",
    "    img_res = np.zeros((img.shape[0], img.shape[1] - 1, 3))\n",
    "    \n",
    "    for k in range(3):\n",
    "        for i in range(img.shape[0]):\n",
    "            index = mask[i].argmax()\n",
    "            img_res[i,:,k] = np.hstack((img[i, :index, k], img[i, index + 1:, k]))\n",
    "    \n",
    "    return img_res\n",
    "\n",
    "def seam_carve(img, work_type, mask=None):\n",
    "    \n",
    "    work_type = work_type.split(' ')\n",
    "    \n",
    "    if work_type[0] == 'vertical':\n",
    "        img = img.transpose((1, 0, 2))\n",
    "    \n",
    "    Y = 0.299 * img[:,:,0] + 0.587 * img[:,:,1] + 0.114 * img[:,:,2]\n",
    "    \n",
    "    I_x = get_grad(Y)\n",
    "    I_y = get_grad(Y.T).T\n",
    "    \n",
    "    I = (I_x ** 2 + I_y ** 2) ** 0.5\n",
    "    \n",
    "    mask = get_mask(I, work_type[0])\n",
    "    \n",
    "    img = delete_mask(img, mask)\n",
    "    \n",
    "    if work_type[0] == 'vertical':\n",
    "        img = img.transpose((1, 0, 2))\n",
    "        mask = mask.T\n",
    "    \n",
    "    return img, None, mask"
   ]
  },
  {
   "cell_type": "code",
   "execution_count": 5,
   "metadata": {},
   "outputs": [],
   "source": [
    "from os.path import join\n",
    "from os import environ\n",
    "\n",
    "def check_test(data_dir):\n",
    "    from pickle import load\n",
    "    output_dir = join(data_dir, 'output')\n",
    "    gt_dir = join(data_dir, 'gt')\n",
    "    correct = 0\n",
    "    with open(join(output_dir, 'output_seams'), 'rb') as fout, \\\n",
    "         open(join(gt_dir, 'seams'), 'rb') as fgt:\n",
    "        for i in range(8):\n",
    "            print(load(fout)[-10:])\n",
    "            print(load(fgt)[-10:])\n",
    "            break\n",
    "            if load(fout) == load(fgt):\n",
    "                correct += 1\n",
    "    res = 'Ok %d/8' % correct\n",
    "    if environ.get('CHECKER'):\n",
    "        print(res)\n",
    "    return res"
   ]
  },
  {
   "cell_type": "code",
   "execution_count": 6,
   "metadata": {},
   "outputs": [
    {
     "name": "stdout",
     "output_type": "stream",
     "text": [
      "((465, 662), (466, 663), (467, 664), (468, 665), (469, 667), (470, 669), (471, 670), (472, 672), (473, 673), (474, 674))\n",
      "((465, 682), (466, 681), (467, 680), (468, 680), (469, 679), (470, 678), (471, 677), (472, 676), (473, 675), (474, 674))\n"
     ]
    },
    {
     "data": {
      "text/plain": [
       "'Ok 0/8'"
      ]
     },
     "execution_count": 6,
     "metadata": {},
     "output_type": "execute_result"
    }
   ],
   "source": [
    "check_test('public_tests/01_test_img_check')"
   ]
  },
  {
   "cell_type": "code",
   "execution_count": null,
   "metadata": {},
   "outputs": [],
   "source": []
  }
 ],
 "metadata": {
  "kernelspec": {
   "display_name": "Python 3",
   "language": "python",
   "name": "python3"
  },
  "language_info": {
   "codemirror_mode": {
    "name": "ipython",
    "version": 3
   },
   "file_extension": ".py",
   "mimetype": "text/x-python",
   "name": "python",
   "nbconvert_exporter": "python",
   "pygments_lexer": "ipython3",
   "version": "3.7.3"
  }
 },
 "nbformat": 4,
 "nbformat_minor": 2
}
